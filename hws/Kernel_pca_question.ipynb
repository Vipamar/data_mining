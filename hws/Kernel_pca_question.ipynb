{
 "cells": [
  {
   "cell_type": "markdown",
   "metadata": {},
   "source": [
    "# PCA to Kernel PCA"
   ]
  },
  {
   "cell_type": "markdown",
   "metadata": {},
   "source": [
    "Let's say we have a data matrix or design matrix $X= \\begin{bmatrix}  \\pmb{x_1^T}\\\\ \\vdots \\\\ \\pmb{x_N^T}\\end{bmatrix}$ where each observation $\\pmb{x}_i \\in \\mathbb{R}^d$ is column vector.\n",
    "\n",
    "To compute the PCA we can either compute eigen vectors or values of $X^TX$ or compute the eigen vectors $U$ and values $\\Lambda$ of $XX^T.$ In the class, we showed that $X^TU$ and $\\Lambda$ are eigen vectors and values of $X^TX$. We also showed that normalized eigen vectors $V$ are given by $X^TU\\Lambda^{-1/2}$. We know that working with $XX^T$ allows us to kernelize PCA as dot product is between observations $\\pmb{x_i}$."
   ]
  },
  {
   "cell_type": "markdown",
   "metadata": {},
   "source": [
    "Given kernel function $k$, let $K = \\begin{bmatrix}  k(\\pmb{x_1}, \\pmb{x_1})   & k(\\pmb{x_1}, \\pmb{x_2}) &\\cdots & k(\\pmb{x_1}, \\pmb{x_N})\n",
    "\\\\  \\vdots \\\\\n",
    "k(\\pmb{x_N}, \\pmb{x_1})   & k(\\pmb{x_N}, \\pmb{x_2}) &\\cdots & k(\\pmb{x_N}, \\pmb{x_N}) \\end{bmatrix}$  be the Gram matrix.\n",
    "\n",
    "From mercer theorem, we know that use of kernel implies an underlying feature space and function $\\phi$, where we implicitly map point $\\pmb{x_i}$ using this function as $\\phi(\\pmb{x_i})$.\n",
    "\n",
    "\n",
    "Let $\\pmb{\\Phi}= \\begin{bmatrix}  \\phi(\\pmb{x_1}^T)\\\\\n",
    "\\vdots \\\\\n",
    "\\phi(\\pmb{x_N})^T\n",
    "\\end{bmatrix}$ be the corresponding design matrix after mapping points via $\\phi$. This design matrix in mapped feature space is for conceptual understanding. We never build this in practice. \n",
    "\n",
    "<br>\n",
    "Then $\\pmb{\\Phi \\Phi^T} =\\begin{bmatrix}\n",
    "\\phi(\\pmb{x_1})^T\\phi(\\pmb{x_1})   & \\phi(\\pmb{x_1})^T\\phi(\\pmb{x_2}) &\\cdots & \\phi(\\pmb{x_1})^T\\phi(\\pmb{x_N})\\\\\n",
    "\\vdots \\\\\n",
    "\\phi(\\pmb{x_N})^T\\phi(\\pmb{x_1})   & \\phi(\\pmb{x_N})^T\\phi(\\pmb{x_2}) &\\cdots & \\phi(\\pmb{x_N})^T\\phi(\\pmb{x_N})\n",
    "\\end{bmatrix} = $ is same as our\n",
    "\n",
    "gram matrix $K$ as $ \\phi(\\pmb{x_i})^T\\phi(\\pmb{x_j})$ = $k(\\pmb{x_i},\\pmb{x_j})$."
   ]
  },
  {
   "cell_type": "markdown",
   "metadata": {},
   "source": [
    "Hence by analogy $V_{kpca} = \\bf{\\Phi}^T U \\Lambda^{-1/2}$ where $U$ and $\\Lambda$ are eigen value and vector of $K$. We proved in the class $\\pmb{\\Lambda}^{-1/2}$ is required to normalize eigen vector to unit length.\n",
    "\n",
    "<font color =\"red\">Note that we never build(in some situation can't build) $\\bf{\\Phi}$. </font>\n",
    "\n",
    "Hence we have the kernel principle component along the column of $V_{kpca}.$ "
   ]
  },
  {
   "cell_type": "markdown",
   "metadata": {},
   "source": [
    "Clearly we don't care about actual principle components in the feature space. We only want to calculate the projections along different principle component directions."
   ]
  },
  {
   "cell_type": "markdown",
   "metadata": {},
   "source": [
    "Let's say $\\pmb{x_t}$ is a test vector in input space. Then we  can take the dot product of $\\phi(x_t)$ with columns of $V_{kpca}$ to compute the projection as\n",
    "\n",
    "$\\phi(\\pmb{x_t})^T V_{kpca} = \\phi{(\\pmb{x_t})}^T\\bf{\\Phi}^T U \\Lambda^{-1/2} = \\begin{bmatrix} \\phi(\\pmb{x_t})^T\\phi(\\pmb{x_1})  &\\cdots & \\phi(\\pmb{x_t})^T\\phi(\\pmb{x_N}) \\end{bmatrix} U \\Lambda^{-1/2} =\\begin{bmatrix} k(\\pmb{x_t, x_1}) & \\cdots & k(\\pmb{x_t, x_N}) \\end{bmatrix} U \\Lambda^{-1/2} $\n",
    "\n",
    "Hence if we have $N^*$ test point then we can store their interaction(dot product) with  each $\\{ \\pmb{x_i}\\}_i^{N}$ in matrix $K^*_{N^* \\times N}$.\n",
    " Projection into $L$ principle components can be calculated as \n",
    "\n",
    " $K^* [U \\Lambda^{-1/2}](:,:L) $ (selecting only $L$ column from $U \\Lambda^{-1/2})$\n",
    " \n",
    " <font color =\"megneta\"> Can you convince yourself that if we want to calculate projection of all the input points $\\{\\bf{x_1}, \\cdots, \\bf{x_N} \\}$ then $K^*=K$ hence projection is given by $U\\Lambda^{1/2} ?$  </font> \n",
    " \n",
    " \n",
    " \n",
    "Everything is ok in above analysis but rememebr we forget to center the features in the feature space hence we work with $\\bar{K} = HKH$ matrix where $H= I -\\frac{1}{N}1_N1_N^T$ is the centering matrix. $I$ is $N\\times N$ identity matrix and $1_N$ is vector of 1 of length $N$."
   ]
  },
  {
   "cell_type": "markdown",
   "metadata": {},
   "source": [
    "## Here is the final kernel PCA algorithm. \n",
    "\n",
    "\n",
    "\n",
    "- Input: Gram matrix $K_{N\\times N}$, $K^*$ of size $N^* \\times K$ and projection dim $L$.\n",
    "- Build $H= I -\\frac{1}{N}1_N1_N^T$ and compute centralized $\\bar{K} = HKH= K- OK- KO +OKO$ where $O=\\frac{1}{N}1_N1_N^T $\n",
    "- $[U, \\Lambda]$ = eig($\\bar{K}$)\n",
    "- Build $K*=\\frac{1}{N^*}1_N1_N^T$ and compute centralized $\\bar{K^*}  = K^*- O^*K^*- K^*O^* +O^*K^*O^*$\n",
    "\n",
    "- Compute projection $ \\bar{K^*}[U \\Lambda^{-1/2}](:,:L) $\n",
    "\n"
   ]
  },
  {
   "cell_type": "markdown",
   "metadata": {},
   "source": [
    "Let' Try Kernel PCA on following dataset. It should convince you about non linear PCA.\n",
    "\n",
    "This is a circle dataset in sklearn. Read in sklearn about this dataset."
   ]
  },
  {
   "cell_type": "code",
   "execution_count": 12,
   "metadata": {},
   "outputs": [],
   "source": [
    "%matplotlib inline\n",
    "import matplotlib.pyplot as plt\n",
    "import numpy as np\n"
   ]
  },
  {
   "cell_type": "code",
   "execution_count": 13,
   "metadata": {},
   "outputs": [
    {
     "name": "stdout",
     "output_type": "stream",
     "text": [
      "Shape of X is (1000, 2)\n"
     ]
    },
    {
     "data": {
      "image/png": "[encoded data removed]",
      "text/plain": [
       "<Figure size 576x576 with 1 Axes>"
      ]
     },
     "metadata": {
      "needs_background": "light"
     },
     "output_type": "display_data"
    }
   ],
   "source": [
    "from sklearn.datasets import make_circles\n",
    "\n",
    "X, y = make_circles(n_samples=1000, random_state=123, noise=0.1, factor=0.2)\n",
    "\n",
    "plt.figure(figsize=(8,8))\n",
    "print('Shape of X is {}'.format(X.shape))\n",
    "\n",
    "plt.scatter(X[y==0, 0], X[y==0, 1], color='red' )\n",
    "plt.scatter(X[y==1, 0], X[y==1, 1], color='blue')\n",
    "plt.title('circles')\n",
    "plt.ylabel('$x_2$')\n",
    "plt.xlabel('$x_1$')\n",
    "plt.show()"
   ]
  },
  {
   "cell_type": "markdown",
   "metadata": {},
   "source": [
    "Let' use RBF kernel to do kernel PCA\n",
    "\n",
    "RBF kernel $k$ is defined as\n",
    "\n",
    "$k(\\pmb{x}_1, \\pmb{x}_2) = exp(-\\gamma \\|\\pmb{x}_i - \\pmb{x}_j \\|_2^2)$\n",
    "\n"
   ]
  },
  {
   "cell_type": "markdown",
   "metadata": {},
   "source": [
    "# Q1 (1 point) Build function to calculate RBF kernel"
   ]
  },
  {
   "cell_type": "code",
   "execution_count": null,
   "metadata": {},
   "outputs": [],
   "source": [
    "def rbf_kernel(x_i, x_i, gamma = 5.0):\n",
    "    # Finish code the write RBF kernel\n",
    "    \n",
    "    "
   ]
  },
  {
   "cell_type": "markdown",
   "metadata": {},
   "source": [
    "# Q2(1 point) Build function to calculate Gram matrix for any given kernel function"
   ]
  },
  {
   "cell_type": "code",
   "execution_count": 8,
   "metadata": {},
   "outputs": [],
   "source": [
    "def gram_matrix(X, kernel_fn = rbf_kernel):\n",
    "    '''\n",
    "    input X: Input point in X along rows\n",
    "    kernel_fn: kernel function to apply, default rbf\n",
    "    '''\n",
    "     # Finish code to return the gram matrix corresponding to kernel kernel_fn    \n",
    "            "
   ]
  },
  {
   "cell_type": "markdown",
   "metadata": {},
   "source": [
    "Let's compute centralizing matrix $H$"
   ]
  },
  {
   "cell_type": "markdown",
   "metadata": {},
   "source": [
    "# Q3 (.5) Build matrix H. Look at the start for the definition."
   ]
  },
  {
   "cell_type": "code",
   "execution_count": 19,
   "metadata": {},
   "outputs": [],
   "source": [
    "# Write code here\n",
    "\n"
   ]
  },
  {
   "cell_type": "markdown",
   "metadata": {},
   "source": [
    "# Q4 (.5 point) Compute gram matrix and centralized gram matrix"
   ]
  },
  {
   "cell_type": "code",
   "execution_count": 3,
   "metadata": {},
   "outputs": [],
   "source": [
    "# Wrire code here"
   ]
  },
  {
   "cell_type": "markdown",
   "metadata": {},
   "source": [
    "# Q 5 (1  Point) Compute the projection of X into first two principle component direction in the feature space.\n",
    "\n",
    "Note: that you have to compute eigen value and vector decomposition of centralized matrix and arrange from largest to smallest  eigen value and corresponding eigen vector.\n",
    " "
   ]
  },
  {
   "cell_type": "code",
   "execution_count": 4,
   "metadata": {},
   "outputs": [],
   "source": [
    "# Write code here"
   ]
  },
  {
   "cell_type": "markdown",
   "metadata": {},
   "source": [
    "# Q6(.5 point) Plot the first two principle components. Use y values to color code the points. see plotting of points at the start. "
   ]
  },
  {
   "cell_type": "code",
   "execution_count": 6,
   "metadata": {},
   "outputs": [],
   "source": [
    "# write code here\n",
    "\n",
    "\n"
   ]
  },
  {
   "cell_type": "markdown",
   "metadata": {},
   "source": [
    "# Q7(.5 point) Plot the first principle component. Use y values to  color code the points. see plotting of points at the start. "
   ]
  },
  {
   "cell_type": "code",
   "execution_count": 7,
   "metadata": {},
   "outputs": [],
   "source": [
    "# write code here"
   ]
  },
  {
   "cell_type": "markdown",
   "metadata": {},
   "source": [
    "Let's compare with Linear PCA"
   ]
  },
  {
   "cell_type": "markdown",
   "metadata": {},
   "source": [
    "# Q 8 (.5) Use PCA from sklearn to compute projection into first two principle component and plot them similar to question 6"
   ]
  },
  {
   "cell_type": "code",
   "execution_count": null,
   "metadata": {},
   "outputs": [],
   "source": [
    "# write code here"
   ]
  },
  {
   "cell_type": "markdown",
   "metadata": {},
   "source": [
    "# Q 9 (.5) plot only first principle component(as computed in Q 7) them similar to question 7"
   ]
  },
  {
   "cell_type": "code",
   "execution_count": 17,
   "metadata": {},
   "outputs": [],
   "source": [
    "# write code here"
   ]
  },
  {
   "cell_type": "markdown",
   "metadata": {},
   "source": [
    "## Here is a sample output from kernel PCA from sklearn"
   ]
  },
  {
   "cell_type": "code",
   "execution_count": 15,
   "metadata": {},
   "outputs": [
    {
     "data": {
      "text/plain": [
       "(1000, 2)"
      ]
     },
     "execution_count": 15,
     "metadata": {},
     "output_type": "execute_result"
    }
   ],
   "source": [
    "from sklearn.decomposition import KernelPCA\n",
    "kpca = KernelPCA(n_components=2, kernel='rbf', gamma= 5.0)\n",
    "projection = kpca.fit_transform(X)\n",
    "projection.shape"
   ]
  },
  {
   "cell_type": "code",
   "execution_count": 16,
   "metadata": {},
   "outputs": [
    {
     "name": "stdout",
     "output_type": "stream",
     "text": [
      "Shape of X is (1000, 2)\n"
     ]
    },
    {
     "data": {
      "image/png": "[encoded data removed]",
      "text/plain": [
       "<Figure size 576x576 with 1 Axes>"
      ]
     },
     "metadata": {
      "needs_background": "light"
     },
     "output_type": "display_data"
    }
   ],
   "source": [
    "plt.figure(figsize=(8,8))\n",
    "print('Shape of X is {}'.format(X.shape))\n",
    "\n",
    "plt.scatter(projection[y==0, 0], projection[y==0, 1], color='red' )\n",
    "plt.scatter(projection[y==1, 0], projection[y==1, 1], color='blue')\n",
    "plt.title('circles')\n",
    "plt.ylabel('$kpca_2$')\n",
    "plt.xlabel('$kpca_1$')\n",
    "plt.show()"
   ]
  }
 ],
 "metadata": {
  "kernelspec": {
   "display_name": "Python 3",
   "language": "python",
   "name": "python3"
  },
  "language_info": {
   "codemirror_mode": {
    "name": "ipython",
    "version": 3
   },
   "file_extension": ".py",
   "mimetype": "text/x-python",
   "name": "python",
   "nbconvert_exporter": "python",
   "pygments_lexer": "ipython3",
   "version": "3.5.2"
  }
 },
 "nbformat": 4,
 "nbformat_minor": 2
}
